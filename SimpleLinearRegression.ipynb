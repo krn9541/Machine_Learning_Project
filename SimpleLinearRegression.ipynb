{
 "cells": [
  {
   "cell_type": "markdown",
   "id": "daef88be",
   "metadata": {},
   "source": [
    "# Step 1: Import Libraries\n",
    "\n",
    "In Python, we'll start by importing the necessary libraries:"
   ]
  },
  {
   "cell_type": "code",
   "execution_count": 2,
   "id": "c66acfa2",
   "metadata": {},
   "outputs": [],
   "source": [
    "import pandas as pd\n",
    "import numpy as np\n",
    "import matplotlib.pyplot as plt\n",
    "import warnings\n",
    "warnings.filterwarnings(\"ignore\")"
   ]
  },
  {
   "cell_type": "markdown",
   "id": "b6627103",
   "metadata": {},
   "source": [
    "# Step 2: Load and Visualize the Data"
   ]
  },
  {
   "cell_type": "code",
   "execution_count": 3,
   "id": "a8cb35fa",
   "metadata": {},
   "outputs": [
    {
     "name": "stdout",
     "output_type": "stream",
     "text": [
      "   Hours_Studied  Score\n",
      "0              2     50\n",
      "1              3     60\n",
      "2              4     70\n",
      "3              5     80\n",
      "4              6     90\n"
     ]
    }
   ],
   "source": [
    "# create dataframe\n",
    "\n",
    "data = {\"Hours_Studied\":[2,3,4,5,6],\n",
    "       \"Score\":[50,60,70,80,90]}\n",
    "\n",
    "df=pd.DataFrame(data)\n",
    "print(df)"
   ]
  },
  {
   "cell_type": "code",
   "execution_count": 4,
   "id": "1217b92e",
   "metadata": {},
   "outputs": [
    {
     "name": "stdout",
     "output_type": "stream",
     "text": [
      "<class 'pandas.core.frame.DataFrame'>\n",
      "RangeIndex: 5 entries, 0 to 4\n",
      "Data columns (total 2 columns):\n",
      " #   Column         Non-Null Count  Dtype\n",
      "---  ------         --------------  -----\n",
      " 0   Hours_Studied  5 non-null      int64\n",
      " 1   Score          5 non-null      int64\n",
      "dtypes: int64(2)\n",
      "memory usage: 208.0 bytes\n"
     ]
    }
   ],
   "source": [
    "df.info()"
   ]
  },
  {
   "cell_type": "code",
   "execution_count": 5,
   "id": "14b7ebba",
   "metadata": {},
   "outputs": [
    {
     "data": {
      "text/plain": [
       "(5, 2)"
      ]
     },
     "execution_count": 5,
     "metadata": {},
     "output_type": "execute_result"
    }
   ],
   "source": [
    "df.shape"
   ]
  },
  {
   "cell_type": "code",
   "execution_count": 6,
   "id": "4d545196",
   "metadata": {},
   "outputs": [
    {
     "data": {
      "image/png": "[encoded data removed]",
      "text/plain": [
       "<Figure size 432x288 with 1 Axes>"
      ]
     },
     "metadata": {
      "needs_background": "light"
     },
     "output_type": "display_data"
    }
   ],
   "source": [
    "# Visualize the data\n",
    "\n",
    "plt.scatter(df[\"Hours_Studied\"],df[\"Score\"])\n",
    "plt.title('Hours Studied vs. Score')\n",
    "plt.xlabel(\"Hours Studied\")\n",
    "plt.ylabel('Score')\n",
    "plt.show()"
   ]
  },
  {
   "cell_type": "markdown",
   "id": "96849a1e",
   "metadata": {},
   "source": [
    "# Step 3: Prepare Data for Training"
   ]
  },
  {
   "cell_type": "code",
   "execution_count": 7,
   "id": "e9f58cab",
   "metadata": {},
   "outputs": [],
   "source": [
    "X = df[[\"Hours_Studied\"]]  #Features (independent variable)\n",
    "y = df[\"Score\"]            #Target (dependent variable)"
   ]
  },
  {
   "cell_type": "markdown",
   "id": "2ac4072f",
   "metadata": {},
   "source": [
    "# Step 4: Create and Train the Model"
   ]
  },
  {
   "cell_type": "code",
   "execution_count": 9,
   "id": "d58c1cb3",
   "metadata": {},
   "outputs": [],
   "source": [
    "# Create a linear regression model\n",
    "\n",
    "from sklearn.linear_model import LinearRegression\n",
    "\n",
    "model = LinearRegression()"
   ]
  },
  {
   "cell_type": "code",
   "execution_count": 10,
   "id": "f04ecfd6",
   "metadata": {},
   "outputs": [
    {
     "data": {
      "text/plain": [
       "LinearRegression()"
      ]
     },
     "execution_count": 10,
     "metadata": {},
     "output_type": "execute_result"
    }
   ],
   "source": [
    "# Fit the model to the data\n",
    "\n",
    "model.fit(X,y)"
   ]
  },
  {
   "cell_type": "markdown",
   "id": "1fe7f2a5",
   "metadata": {},
   "source": [
    "# Step 5: Get Model Parameters"
   ]
  },
  {
   "cell_type": "code",
   "execution_count": 11,
   "id": "cd873069",
   "metadata": {},
   "outputs": [
    {
     "name": "stdout",
     "output_type": "stream",
     "text": [
      "Slope (m) : [10.]\n",
      "Intercept (b) : 29.999999999999993\n"
     ]
    }
   ],
   "source": [
    "# Get the Coefficients\n",
    "\n",
    "slope = model.coef_\n",
    "intercept = model.intercept_\n",
    "\n",
    "\n",
    "print(f'Slope (m) : {slope}')\n",
    "print(f'Intercept (b) : {intercept}')"
   ]
  },
  {
   "cell_type": "markdown",
   "id": "312f5b1f",
   "metadata": {},
   "source": [
    "# Step 6: Make Predictions\n",
    "\n"
   ]
  },
  {
   "cell_type": "code",
   "execution_count": 13,
   "id": "8f967c62",
   "metadata": {},
   "outputs": [
    {
     "name": "stdout",
     "output_type": "stream",
     "text": [
      "Predicted Score for 7 hours:100.0\n"
     ]
    }
   ],
   "source": [
    "# Let's say we want to predict the score for a student who studies for 7 hours.\n",
    "\n",
    "Hours_to_predict = 7\n",
    "predicted_score = model.predict([[Hours_to_predict]])\n",
    "\n",
    "print(f'Predicted Score for {Hours_to_predict} hours:{predicted_score[0]}')"
   ]
  },
  {
   "cell_type": "markdown",
   "id": "4a992ef7",
   "metadata": {},
   "source": [
    "# Step 7: Visualize the Regression Line"
   ]
  },
  {
   "cell_type": "code",
   "execution_count": 14,
   "id": "eebc639f",
   "metadata": {},
   "outputs": [
    {
     "data": {
      "image/png": "[encoded data removed]",
      "text/plain": [
       "<Figure size 432x288 with 1 Axes>"
      ]
     },
     "metadata": {
      "needs_background": "light"
     },
     "output_type": "display_data"
    }
   ],
   "source": [
    "plt.scatter(df['Hours_Studied'], df['Score'], label='Actual Data')\n",
    "plt.plot(df['Hours_Studied'], model.predict(X), color='red', label='Regression Line')\n",
    "plt.title('Hours Studied vs. Score')\n",
    "plt.xlabel('Hours Studied')\n",
    "plt.ylabel('Score')\n",
    "plt.legend()\n",
    "plt.show()\n"
   ]
  },
  {
   "cell_type": "code",
   "execution_count": null,
   "id": "225ad391",
   "metadata": {},
   "outputs": [],
   "source": []
  }
 ],
 "metadata": {
  "kernelspec": {
   "display_name": "Python 3 (ipykernel)",
   "language": "python",
   "name": "python3"
  },
  "language_info": {
   "codemirror_mode": {
    "name": "ipython",
    "version": 3
   },
   "file_extension": ".py",
   "mimetype": "text/x-python",
   "name": "python",
   "nbconvert_exporter": "python",
   "pygments_lexer": "ipython3",
   "version": "3.9.12"
  }
 },
 "nbformat": 4,
 "nbformat_minor": 5
}
